{
 "cells": [
  {
   "cell_type": "markdown",
   "id": "e3f94179",
   "metadata": {},
   "source": [
    "## McNemar's Test"
   ]
  },
  {
   "cell_type": "code",
   "execution_count": null,
   "id": "cf5a35f3",
   "metadata": {},
   "outputs": [],
   "source": [
    "import numpy as np\n",
    "from scipy.stats import chi2"
   ]
  },
  {
   "cell_type": "code",
   "execution_count": null,
   "id": "a19da0f4",
   "metadata": {},
   "outputs": [],
   "source": [
    "def mcnemars_test(b, c):\n",
    "    chi_squared = (np.abs(b - c) - 1) ** 2 / (b + c) if (b + c) != 0 else 0\n",
    "    df = 1\n",
    "    p_value = chi2.sf(chi_squared, df)\n",
    "    return chi_squared, p_value\n",
    "\n",
    "alpha = 0.05\n",
    "\n",
    "comparisons = {\n",
    "    \"vGAN-CNN vs. Base Model\": (5, 247),\n",
    "    \"cGAN-CNN vs. Base Model\": (26, 497),\n",
    "    \"SMOTE vs. Base Model\": (34, 127),\n",
    "    \"vGAN-CNN vs. cGAN-CNN\": (117, 346),\n",
    "    \"vGAN-CNN vs. SMOTE\": (165, 16),\n",
    "    \"cGAN-CNN vs. SMOTE\": (415, 37)\n",
    "}\n",
    "\n",
    "for comp_name, (b, c) in comparisons.items():\n",
    "    chi_squared, p_value = mcnemars_test(b, c)\n",
    "    print(f\"{comp_name}:\")\n",
    "    print(\"Chi-squared:\", chi_squared)\n",
    "    print(\"P-value:\", p_value)\n",
    "    if p_value < alpha:\n",
    "        print(\"Statistically significant difference.\")\n",
    "    else:\n",
    "        print(\"No statistically significant difference.\")\n",
    "    print()  \n"
   ]
  }
 ],
 "metadata": {
  "kernelspec": {
   "display_name": "Python 3 (ipykernel)",
   "language": "python",
   "name": "python3"
  },
  "language_info": {
   "codemirror_mode": {
    "name": "ipython",
    "version": 3
   },
   "file_extension": ".py",
   "mimetype": "text/x-python",
   "name": "python",
   "nbconvert_exporter": "python",
   "pygments_lexer": "ipython3",
   "version": "3.11.1"
  }
 },
 "nbformat": 4,
 "nbformat_minor": 5
}
